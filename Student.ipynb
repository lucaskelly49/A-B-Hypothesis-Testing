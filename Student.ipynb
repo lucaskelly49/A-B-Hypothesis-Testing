{
 "cells": [
  {
   "cell_type": "code",
   "execution_count": 2,
   "metadata": {},
   "outputs": [],
   "source": [
    "# Want to touch on \n",
    "\n",
    "# The Kolmogorov-Smirnov Test\n",
    "# ANOVA\n",
    "# Cohen's d\n",
    "# One sample T\n",
    "# Two sample T"
   ]
  },
  {
   "cell_type": "code",
   "execution_count": 265,
   "metadata": {},
   "outputs": [],
   "source": [
    "\n",
    "# 1.1 SALES - Do discounts have a statistically significant effect on the number of products customers order?\n",
    "# 1.2 SALES - What level(s) of discounts are most effective in increasing quantity?\n",
    "# 2.  EMPLOYEES - Are there any significant differences in the dollar amount of sales amongst employees?\n",
    "# 3.  CUSTOMERS - Are any regions in Europe underperforming in customer sales?\n",
    "# 4.  \n",
    "# 5.  PRODUCTS - Are there any product categories that go on backorder more than average?\n",
    "\n",
    "\n"
   ]
  },
  {
   "cell_type": "code",
   "execution_count": 480,
   "metadata": {},
   "outputs": [],
   "source": [
    "def visualization(control, experimental):\n",
    "    plt.figure(figsize=(10,6))\n",
    "    sns.distplot(experimental, bins=50,  label='Experimental')\n",
    "    sns.distplot(control, bins=50,  label='Control')\n",
    "\n",
    "    plt.axvline(x=control.mean(), color='k', linestyle='--')\n",
    "    plt.axvline(x=experimental.mean(), color='k', linestyle='--')\n",
    "\n",
    "    plt.title('Control and Experimental Sampling Distributions', fontsize=14)\n",
    "    plt.xlabel('Distributions')\n",
    "    plt.ylabel('Frequency')\n",
    "    plt.legend()\n",
    "    plt.show()"
   ]
  },
  {
   "cell_type": "code",
   "execution_count": null,
   "metadata": {},
   "outputs": [],
   "source": []
  },
  {
   "cell_type": "markdown",
   "metadata": {},
   "source": [
    "![alt text](Northwind_ERD.png \"Title\")"
   ]
  },
  {
   "cell_type": "code",
   "execution_count": 5,
   "metadata": {},
   "outputs": [],
   "source": [
    "# SQL \n",
    "import sqlite3\n",
    "import sqlalchemy\n",
    "from sqlalchemy import create_engine\n",
    "from sqlalchemy import inspect\n",
    "from sqlalchemy.orm import Session, sessionmaker\n",
    "\n",
    "# Analytical Tools\n",
    "import pandas as pd # for dataframe\n",
    "import matplotlib.pyplot as plt # plotting\n",
    "import seaborn as sns # plotting\n",
    "import numpy as np # analysis\n",
    "from scipy import stats # significance levels, normality\n",
    "import itertools # for combinations\n",
    "import statsmodels.api as sm # anova\n",
    "from statsmodels.formula.api import ols\n",
    "import math\n",
    "\n",
    "import warnings\n",
    "warnings.filterwarnings('ignore') # hide matplotlib warnings"
   ]
  },
  {
   "cell_type": "markdown",
   "metadata": {},
   "source": [
    "## Question 1.1: \n",
    "\n",
    "Do discounts have a statistically significant effect on the number of products customers order?"
   ]
  },
  {
   "cell_type": "markdown",
   "metadata": {},
   "source": [
    "## Hypothesis 1.1:\n",
    "\n",
    "#### Null:\n",
    "\n",
    "Discounts do not have a significant effect on the number of products customers order.\n",
    "\n",
    "#### Alternative:\n",
    "\n",
    "Discounts do have a statistically significant effect on the number of products customers order. "
   ]
  },
  {
   "cell_type": "markdown",
   "metadata": {},
   "source": [
    "## Data 1.1:\n",
    "\n",
    "Collecting data using SQL to create a control group of sales that do not contain a discount and a experimental group that does apply a discount. "
   ]
  },
  {
   "cell_type": "code",
   "execution_count": 6,
   "metadata": {},
   "outputs": [
    {
     "name": "stdout",
     "output_type": "stream",
     "text": [
      "2019-05-30 17:57:58,281 INFO sqlalchemy.engine.base.Engine SELECT CAST('test plain returns' AS VARCHAR(60)) AS anon_1\n",
      "2019-05-30 17:57:58,282 INFO sqlalchemy.engine.base.Engine ()\n",
      "2019-05-30 17:57:58,284 INFO sqlalchemy.engine.base.Engine SELECT CAST('test unicode returns' AS VARCHAR(60)) AS anon_1\n",
      "2019-05-30 17:57:58,288 INFO sqlalchemy.engine.base.Engine ()\n",
      "2019-05-30 17:57:58,292 INFO sqlalchemy.engine.base.Engine SELECT name FROM sqlite_master WHERE type='table' ORDER BY name\n",
      "2019-05-30 17:57:58,293 INFO sqlalchemy.engine.base.Engine ()\n",
      "['Category', 'Customer', 'CustomerCustomerDemo', 'CustomerDemographic', 'Employee', 'EmployeeTerritory', 'Order', 'OrderDetail', 'Product', 'Region', 'Shipper', 'Supplier', 'Territory']\n"
     ]
    }
   ],
   "source": [
    "engine = create_engine(\"sqlite:///Northwind_small.sqlite\", echo=True)\n",
    "Session = sessionmaker(bind=engine)\n",
    "session = Session()\n",
    "\n",
    "con = engine.connect()\n",
    "inspector = inspect(engine)\n",
    "print(inspector.get_table_names())"
   ]
  },
  {
   "cell_type": "code",
   "execution_count": 7,
   "metadata": {
    "scrolled": true
   },
   "outputs": [
    {
     "name": "stdout",
     "output_type": "stream",
     "text": [
      "2019-05-30 17:57:59,281 INFO sqlalchemy.engine.base.Engine PRAGMA table_info(\"OrderDetail\")\n",
      "2019-05-30 17:57:59,282 INFO sqlalchemy.engine.base.Engine ()\n",
      "Table Name: OrderDetail\n",
      "\n",
      "Name: Id \t Type: VARCHAR(8000)\n",
      "Name: OrderId \t Type: INTEGER\n",
      "Name: ProductId \t Type: INTEGER\n",
      "Name: UnitPrice \t Type: DECIMAL\n",
      "Name: Quantity \t Type: INTEGER\n",
      "Name: Discount \t Type: FLOAT\n"
     ]
    }
   ],
   "source": [
    "# Function to clean up the table names\n",
    "\n",
    "def get_columns_info(col_name):\n",
    "    cols_list = inspector.get_columns(col_name)\n",
    "    \n",
    "    print(\"Table Name: {}\".format(col_name))\n",
    "    print(\"\")\n",
    "    \n",
    "    for column in cols_list:\n",
    "        print(\"Name: {} \\t Type: {}\".format(column['name'], column['type']))\n",
    "\n",
    "get_columns_info('OrderDetail')"
   ]
  },
  {
   "cell_type": "code",
   "execution_count": 8,
   "metadata": {},
   "outputs": [
    {
     "name": "stdout",
     "output_type": "stream",
     "text": [
      "2019-05-30 17:58:00,238 INFO sqlalchemy.engine.base.Engine SELECT * from OrderDetail\n",
      "2019-05-30 17:58:00,240 INFO sqlalchemy.engine.base.Engine ()\n"
     ]
    },
    {
     "data": {
      "text/html": [
       "<div>\n",
       "<style scoped>\n",
       "    .dataframe tbody tr th:only-of-type {\n",
       "        vertical-align: middle;\n",
       "    }\n",
       "\n",
       "    .dataframe tbody tr th {\n",
       "        vertical-align: top;\n",
       "    }\n",
       "\n",
       "    .dataframe thead th {\n",
       "        text-align: right;\n",
       "    }\n",
       "</style>\n",
       "<table border=\"1\" class=\"dataframe\">\n",
       "  <thead>\n",
       "    <tr style=\"text-align: right;\">\n",
       "      <th></th>\n",
       "      <th>Id</th>\n",
       "      <th>OrderId</th>\n",
       "      <th>ProductId</th>\n",
       "      <th>UnitPrice</th>\n",
       "      <th>Quantity</th>\n",
       "      <th>Discount</th>\n",
       "    </tr>\n",
       "  </thead>\n",
       "  <tbody>\n",
       "    <tr>\n",
       "      <th>0</th>\n",
       "      <td>10248/11</td>\n",
       "      <td>10248</td>\n",
       "      <td>11</td>\n",
       "      <td>14.0</td>\n",
       "      <td>12</td>\n",
       "      <td>0.0</td>\n",
       "    </tr>\n",
       "    <tr>\n",
       "      <th>1</th>\n",
       "      <td>10248/42</td>\n",
       "      <td>10248</td>\n",
       "      <td>42</td>\n",
       "      <td>9.8</td>\n",
       "      <td>10</td>\n",
       "      <td>0.0</td>\n",
       "    </tr>\n",
       "    <tr>\n",
       "      <th>2</th>\n",
       "      <td>10248/72</td>\n",
       "      <td>10248</td>\n",
       "      <td>72</td>\n",
       "      <td>34.8</td>\n",
       "      <td>5</td>\n",
       "      <td>0.0</td>\n",
       "    </tr>\n",
       "    <tr>\n",
       "      <th>3</th>\n",
       "      <td>10249/14</td>\n",
       "      <td>10249</td>\n",
       "      <td>14</td>\n",
       "      <td>18.6</td>\n",
       "      <td>9</td>\n",
       "      <td>0.0</td>\n",
       "    </tr>\n",
       "    <tr>\n",
       "      <th>4</th>\n",
       "      <td>10249/51</td>\n",
       "      <td>10249</td>\n",
       "      <td>51</td>\n",
       "      <td>42.4</td>\n",
       "      <td>40</td>\n",
       "      <td>0.0</td>\n",
       "    </tr>\n",
       "  </tbody>\n",
       "</table>\n",
       "</div>"
      ],
      "text/plain": [
       "         Id  OrderId  ProductId  UnitPrice  Quantity  Discount\n",
       "0  10248/11    10248         11       14.0        12       0.0\n",
       "1  10248/42    10248         42        9.8        10       0.0\n",
       "2  10248/72    10248         72       34.8         5       0.0\n",
       "3  10249/14    10249         14       18.6         9       0.0\n",
       "4  10249/51    10249         51       42.4        40       0.0"
      ]
     },
     "execution_count": 8,
     "metadata": {},
     "output_type": "execute_result"
    }
   ],
   "source": [
    "# Pulling data with SQL and converting to pandas dataframe\n",
    "\n",
    "rs = con.execute(\"SELECT * from OrderDetail\")\n",
    "columns = ['Id', 'OrderId', 'ProductId', 'UnitPrice', 'Quantity', 'Discount']\n",
    "df = pd.DataFrame(rs.fetchall(), columns = columns)\n",
    "df.head()"
   ]
  },
  {
   "cell_type": "code",
   "execution_count": 9,
   "metadata": {},
   "outputs": [],
   "source": [
    "control = df[df['Discount']==0]['Quantity']\n",
    "experimental = df[df['Discount']!=0]['Quantity']"
   ]
  },
  {
   "cell_type": "code",
   "execution_count": 65,
   "metadata": {},
   "outputs": [
    {
     "data": {
      "image/png": "[encoded data removed]",
      "text/plain": [
       "<Figure size 720x432 with 1 Axes>"
      ]
     },
     "metadata": {},
     "output_type": "display_data"
    }
   ],
   "source": [
    "visualization(control, experimental)"
   ]
  },
  {
   "cell_type": "markdown",
   "metadata": {},
   "source": [
    "## Experiment 1.1: \n",
    "\n",
    "Using a one sample t-test and comparing that to a t-critical value to determine whether or not the quantity of sales with a discount is significantly higher (alternative) than sales without a discount (null)."
   ]
  },
  {
   "cell_type": "code",
   "execution_count": 56,
   "metadata": {},
   "outputs": [],
   "source": [
    "def one_sample_ttest(sample, mu, alpha):\n",
    "\n",
    "    # Population mean \n",
    "    mu = np.mean(control)\n",
    "    \n",
    "    # Sample mean (x̄) using NumPy mean()\n",
    "    x_bar= np.mean(experimental)\n",
    "\n",
    "    # Sample Stadrad Deviation (sigma) using Numpy\n",
    "    sigma = np.std(experimental)\n",
    "    \n",
    "    # Degrees of freedom\n",
    "    freedom = len(experimental) - 1\n",
    "    \n",
    "    #Calculate the critical t-value\n",
    "    t_crit = stats.t.ppf(1 - alpha, df=freedom)\n",
    "    \n",
    "    #Calculate the t-value and p-value\n",
    "    results = stats.ttest_1samp(a= experimental, popmean= mu)         \n",
    "    \n",
    "    if (results[0]>t_crit) and (results[1]<alpha):\n",
    "        print('T-value =', round(results[0], 2))\n",
    "        print('Critical t-value =', np.round(t_crit, 3)) \n",
    "        print('P-value =', np.round((results[1]), 10))\n",
    "        print ('Null hypothesis rejected.')\n",
    "    else:\n",
    "        print('T-value =', round(results[0], 2))\n",
    "        print('Critical t-value =', np.round(t_crit, 3)) \n",
    "        print('P-value =', np.round((results[1]), 10))\n",
    "        print ('Null hypothesis is accepted.')\n",
    "        "
   ]
  },
  {
   "cell_type": "code",
   "execution_count": 63,
   "metadata": {},
   "outputs": [
    {
     "name": "stdout",
     "output_type": "stream",
     "text": [
      "T-value = 7.52\n",
      "Critical t-value = 1.647\n",
      "P-value = 0.0\n",
      "Null hypothesis rejected.\n"
     ]
    }
   ],
   "source": [
    "one_sample_ttest(experimental, mu, 0.05)"
   ]
  },
  {
   "cell_type": "markdown",
   "metadata": {},
   "source": [
    "## Analyze Results and Draw Conclusion 1.1:\n",
    "\n",
    "Our T-value is greater than our Critical T-value and therefore our test rejects the null hypothesis. We can see that there is statistical significance showing sales with discounts show higher sales quantities.\n"
   ]
  },
  {
   "cell_type": "markdown",
   "metadata": {},
   "source": [
    "# -----------------------------------------------------------------------------------------"
   ]
  },
  {
   "cell_type": "markdown",
   "metadata": {},
   "source": [
    "## Question 1.2: \n",
    "\n",
    "What level(s) of discounts are most effective in increasing quantity?"
   ]
  },
  {
   "cell_type": "markdown",
   "metadata": {},
   "source": [
    "## Hypothesis 1.2:\n",
    "\n",
    "#### Null:\n",
    "\n",
    "The level of discount does not have an effect on the quantity of items in the order.\n",
    "\n",
    "#### Alternative:\n",
    "\n",
    "The level of discount does have an effect on the quantity of the items in the order. "
   ]
  },
  {
   "cell_type": "markdown",
   "metadata": {},
   "source": [
    "## Data 1.2:\n",
    "\n",
    "Using the same data frame, we will look at the various levels of discount and how many items were sold."
   ]
  },
  {
   "cell_type": "code",
   "execution_count": 17,
   "metadata": {
    "scrolled": true
   },
   "outputs": [
    {
     "name": "stdout",
     "output_type": "stream",
     "text": [
      "Discount levels\n",
      "[0.   0.01 0.02 0.03 0.04 0.05 0.06 0.1  0.15 0.2  0.25]\n"
     ]
    },
    {
     "data": {
      "text/html": [
       "<div>\n",
       "<style scoped>\n",
       "    .dataframe tbody tr th:only-of-type {\n",
       "        vertical-align: middle;\n",
       "    }\n",
       "\n",
       "    .dataframe tbody tr th {\n",
       "        vertical-align: top;\n",
       "    }\n",
       "\n",
       "    .dataframe thead th {\n",
       "        text-align: right;\n",
       "    }\n",
       "</style>\n",
       "<table border=\"1\" class=\"dataframe\">\n",
       "  <thead>\n",
       "    <tr style=\"text-align: right;\">\n",
       "      <th></th>\n",
       "      <th>Discount %</th>\n",
       "      <th>Orders</th>\n",
       "      <th>Avg. Order Quantity</th>\n",
       "    </tr>\n",
       "  </thead>\n",
       "  <tbody>\n",
       "    <tr>\n",
       "      <th>0</th>\n",
       "      <td>0.0</td>\n",
       "      <td>1317.0</td>\n",
       "      <td>21.715262</td>\n",
       "    </tr>\n",
       "    <tr>\n",
       "      <th>1</th>\n",
       "      <td>1.0</td>\n",
       "      <td>1.0</td>\n",
       "      <td>2.000000</td>\n",
       "    </tr>\n",
       "    <tr>\n",
       "      <th>2</th>\n",
       "      <td>2.0</td>\n",
       "      <td>2.0</td>\n",
       "      <td>2.000000</td>\n",
       "    </tr>\n",
       "    <tr>\n",
       "      <th>3</th>\n",
       "      <td>3.0</td>\n",
       "      <td>3.0</td>\n",
       "      <td>1.666667</td>\n",
       "    </tr>\n",
       "    <tr>\n",
       "      <th>4</th>\n",
       "      <td>4.0</td>\n",
       "      <td>1.0</td>\n",
       "      <td>1.000000</td>\n",
       "    </tr>\n",
       "    <tr>\n",
       "      <th>5</th>\n",
       "      <td>5.0</td>\n",
       "      <td>185.0</td>\n",
       "      <td>28.010811</td>\n",
       "    </tr>\n",
       "    <tr>\n",
       "      <th>6</th>\n",
       "      <td>6.0</td>\n",
       "      <td>1.0</td>\n",
       "      <td>2.000000</td>\n",
       "    </tr>\n",
       "    <tr>\n",
       "      <th>7</th>\n",
       "      <td>10.0</td>\n",
       "      <td>173.0</td>\n",
       "      <td>25.236994</td>\n",
       "    </tr>\n",
       "    <tr>\n",
       "      <th>8</th>\n",
       "      <td>15.0</td>\n",
       "      <td>157.0</td>\n",
       "      <td>28.382166</td>\n",
       "    </tr>\n",
       "    <tr>\n",
       "      <th>9</th>\n",
       "      <td>20.0</td>\n",
       "      <td>161.0</td>\n",
       "      <td>27.024845</td>\n",
       "    </tr>\n",
       "    <tr>\n",
       "      <th>10</th>\n",
       "      <td>25.0</td>\n",
       "      <td>154.0</td>\n",
       "      <td>28.240260</td>\n",
       "    </tr>\n",
       "  </tbody>\n",
       "</table>\n",
       "</div>"
      ],
      "text/plain": [
       "    Discount %  Orders  Avg. Order Quantity\n",
       "0          0.0  1317.0            21.715262\n",
       "1          1.0     1.0             2.000000\n",
       "2          2.0     2.0             2.000000\n",
       "3          3.0     3.0             1.666667\n",
       "4          4.0     1.0             1.000000\n",
       "5          5.0   185.0            28.010811\n",
       "6          6.0     1.0             2.000000\n",
       "7         10.0   173.0            25.236994\n",
       "8         15.0   157.0            28.382166\n",
       "9         20.0   161.0            27.024845\n",
       "10        25.0   154.0            28.240260"
      ]
     },
     "execution_count": 17,
     "metadata": {},
     "output_type": "execute_result"
    }
   ],
   "source": [
    "# Find all discount levels\n",
    "discounts = df['Discount'].unique()\n",
    "discounts.sort()\n",
    "print('Discount levels')\n",
    "print(discounts)\n",
    "\n",
    "# Group orders by discount amounts\n",
    "# Each group is a DataFrame containing orders with certain discount level\n",
    "groups = {}\n",
    "for i in discounts:\n",
    "    groups[i] = df[df['Discount']==i]\n",
    "\n",
    "# Create new DataFrame with Discounts and Order quantities\n",
    "discounts_df = pd.DataFrame(columns=['Discount %','Orders','Avg. Order Quantity'])\n",
    "for i in groups.keys():\n",
    "    discounts_df = discounts_df.append({'Discount %':i*100,'Orders':len(groups[i]),'Avg. Order Quantity':groups[i]['Quantity'].mean()}, ignore_index=True)\n",
    "\n",
    "discounts_df"
   ]
  },
  {
   "cell_type": "code",
   "execution_count": 18,
   "metadata": {},
   "outputs": [
    {
     "data": {
      "text/html": [
       "<div>\n",
       "<style scoped>\n",
       "    .dataframe tbody tr th:only-of-type {\n",
       "        vertical-align: middle;\n",
       "    }\n",
       "\n",
       "    .dataframe tbody tr th {\n",
       "        vertical-align: top;\n",
       "    }\n",
       "\n",
       "    .dataframe thead th {\n",
       "        text-align: right;\n",
       "    }\n",
       "</style>\n",
       "<table border=\"1\" class=\"dataframe\">\n",
       "  <thead>\n",
       "    <tr style=\"text-align: right;\">\n",
       "      <th></th>\n",
       "      <th>Id</th>\n",
       "      <th>OrderId</th>\n",
       "      <th>ProductId</th>\n",
       "      <th>UnitPrice</th>\n",
       "      <th>Quantity</th>\n",
       "      <th>Discount</th>\n",
       "    </tr>\n",
       "  </thead>\n",
       "  <tbody>\n",
       "    <tr>\n",
       "      <th>0</th>\n",
       "      <td>10248/11</td>\n",
       "      <td>10248</td>\n",
       "      <td>11</td>\n",
       "      <td>14.0</td>\n",
       "      <td>12</td>\n",
       "      <td>0.0</td>\n",
       "    </tr>\n",
       "    <tr>\n",
       "      <th>1</th>\n",
       "      <td>10248/42</td>\n",
       "      <td>10248</td>\n",
       "      <td>42</td>\n",
       "      <td>9.8</td>\n",
       "      <td>10</td>\n",
       "      <td>0.0</td>\n",
       "    </tr>\n",
       "    <tr>\n",
       "      <th>2</th>\n",
       "      <td>10248/72</td>\n",
       "      <td>10248</td>\n",
       "      <td>72</td>\n",
       "      <td>34.8</td>\n",
       "      <td>5</td>\n",
       "      <td>0.0</td>\n",
       "    </tr>\n",
       "    <tr>\n",
       "      <th>3</th>\n",
       "      <td>10249/14</td>\n",
       "      <td>10249</td>\n",
       "      <td>14</td>\n",
       "      <td>18.6</td>\n",
       "      <td>9</td>\n",
       "      <td>0.0</td>\n",
       "    </tr>\n",
       "    <tr>\n",
       "      <th>4</th>\n",
       "      <td>10249/51</td>\n",
       "      <td>10249</td>\n",
       "      <td>51</td>\n",
       "      <td>42.4</td>\n",
       "      <td>40</td>\n",
       "      <td>0.0</td>\n",
       "    </tr>\n",
       "  </tbody>\n",
       "</table>\n",
       "</div>"
      ],
      "text/plain": [
       "         Id  OrderId  ProductId  UnitPrice  Quantity  Discount\n",
       "0  10248/11    10248         11       14.0        12       0.0\n",
       "1  10248/42    10248         42        9.8        10       0.0\n",
       "2  10248/72    10248         72       34.8         5       0.0\n",
       "3  10249/14    10249         14       18.6         9       0.0\n",
       "4  10249/51    10249         51       42.4        40       0.0"
      ]
     },
     "execution_count": 18,
     "metadata": {},
     "output_type": "execute_result"
    }
   ],
   "source": [
    "df.head()"
   ]
  },
  {
   "cell_type": "code",
   "execution_count": 19,
   "metadata": {},
   "outputs": [],
   "source": [
    "discounts = df['Discount'].tolist()\n",
    "quantities = df['Quantity'].tolist()\n",
    "disc5 = []\n",
    "disc10 = []\n",
    "disc15 = []\n",
    "disc20 = []\n",
    "disc25 = []\n",
    "\n",
    "for i in discounts:\n",
    "    if i == 0.05:\n",
    "        disc5.append(1)\n",
    "    else:\n",
    "        disc5.append(0)\n",
    "\n",
    "for i in discounts:\n",
    "    if i == 0.10:\n",
    "        disc10.append(1)\n",
    "    else:\n",
    "        disc10.append(0)\n",
    "        \n",
    "for i in discounts:\n",
    "    if i == 0.15:\n",
    "        disc15.append(1)\n",
    "    else:\n",
    "        disc15.append(0)\n",
    "    \n",
    "for i in discounts:\n",
    "    if i == 0.20:\n",
    "        disc20.append(1)\n",
    "    else:\n",
    "        disc20.append(0)\n",
    "\n",
    "for i in discounts:\n",
    "    if i == 0.25:\n",
    "        disc25.append(1)\n",
    "    else:\n",
    "        disc25.append(0)\n",
    "\n",
    "ANOVA_discounts = pd.DataFrame({'Quantity' : quantities,\n",
    "                                'five' : disc5, 'ten' : disc10, 'fifteen' : disc15, 'twenty' : disc20, 'twentyfive' : disc25})"
   ]
  },
  {
   "cell_type": "code",
   "execution_count": 20,
   "metadata": {},
   "outputs": [
    {
     "data": {
      "text/html": [
       "<div>\n",
       "<style scoped>\n",
       "    .dataframe tbody tr th:only-of-type {\n",
       "        vertical-align: middle;\n",
       "    }\n",
       "\n",
       "    .dataframe tbody tr th {\n",
       "        vertical-align: top;\n",
       "    }\n",
       "\n",
       "    .dataframe thead th {\n",
       "        text-align: right;\n",
       "    }\n",
       "</style>\n",
       "<table border=\"1\" class=\"dataframe\">\n",
       "  <thead>\n",
       "    <tr style=\"text-align: right;\">\n",
       "      <th></th>\n",
       "      <th>Quantity</th>\n",
       "      <th>five</th>\n",
       "      <th>ten</th>\n",
       "      <th>fifteen</th>\n",
       "      <th>twenty</th>\n",
       "      <th>twentyfive</th>\n",
       "    </tr>\n",
       "  </thead>\n",
       "  <tbody>\n",
       "    <tr>\n",
       "      <th>0</th>\n",
       "      <td>12</td>\n",
       "      <td>0</td>\n",
       "      <td>0</td>\n",
       "      <td>0</td>\n",
       "      <td>0</td>\n",
       "      <td>0</td>\n",
       "    </tr>\n",
       "    <tr>\n",
       "      <th>1</th>\n",
       "      <td>10</td>\n",
       "      <td>0</td>\n",
       "      <td>0</td>\n",
       "      <td>0</td>\n",
       "      <td>0</td>\n",
       "      <td>0</td>\n",
       "    </tr>\n",
       "    <tr>\n",
       "      <th>2</th>\n",
       "      <td>5</td>\n",
       "      <td>0</td>\n",
       "      <td>0</td>\n",
       "      <td>0</td>\n",
       "      <td>0</td>\n",
       "      <td>0</td>\n",
       "    </tr>\n",
       "    <tr>\n",
       "      <th>3</th>\n",
       "      <td>9</td>\n",
       "      <td>0</td>\n",
       "      <td>0</td>\n",
       "      <td>0</td>\n",
       "      <td>0</td>\n",
       "      <td>0</td>\n",
       "    </tr>\n",
       "    <tr>\n",
       "      <th>4</th>\n",
       "      <td>40</td>\n",
       "      <td>0</td>\n",
       "      <td>0</td>\n",
       "      <td>0</td>\n",
       "      <td>0</td>\n",
       "      <td>0</td>\n",
       "    </tr>\n",
       "  </tbody>\n",
       "</table>\n",
       "</div>"
      ],
      "text/plain": [
       "   Quantity  five  ten  fifteen  twenty  twentyfive\n",
       "0        12     0    0        0       0           0\n",
       "1        10     0    0        0       0           0\n",
       "2         5     0    0        0       0           0\n",
       "3         9     0    0        0       0           0\n",
       "4        40     0    0        0       0           0"
      ]
     },
     "execution_count": 20,
     "metadata": {},
     "output_type": "execute_result"
    }
   ],
   "source": [
    "ANOVA_discounts.head()"
   ]
  },
  {
   "cell_type": "markdown",
   "metadata": {},
   "source": [
    "## Experiment 1.2:"
   ]
  },
  {
   "cell_type": "code",
   "execution_count": 21,
   "metadata": {},
   "outputs": [
    {
     "name": "stdout",
     "output_type": "stream",
     "text": [
      "                      sum_sq      df          F    PR(>F)\n",
      "C(five)          6682.701649     1.0  18.863661  0.000015\n",
      "C(ten)           2030.000607     1.0   5.730204  0.016761\n",
      "C(fifteen)       6466.666108     1.0  18.253844  0.000020\n",
      "C(twenty)        4232.949011     1.0  11.948598  0.000558\n",
      "C(twentyfive)    6092.974191     1.0  17.199002  0.000035\n",
      "Residual       761311.705709  2149.0        NaN       NaN\n"
     ]
    }
   ],
   "source": [
    "formula = 'Quantity ~ C(five) + C(ten) + C(fifteen) + C(twenty) + C(twentyfive)'\n",
    "lm = ols(formula, ANOVA_discounts).fit()\n",
    "table = sm.stats.anova_lm(lm, typ=2)\n",
    "print(table)"
   ]
  },
  {
   "cell_type": "code",
   "execution_count": 22,
   "metadata": {},
   "outputs": [],
   "source": [
    "# Values < .05 (or whatever we set  αα  to) indicate rejection of the null hypothesis\n",
    "# 5, 15, 25, 20, 10"
   ]
  },
  {
   "cell_type": "markdown",
   "metadata": {},
   "source": [
    "## Analyze Results and Draw Conclusion 1.2:"
   ]
  },
  {
   "cell_type": "code",
   "execution_count": null,
   "metadata": {},
   "outputs": [],
   "source": []
  },
  {
   "cell_type": "markdown",
   "metadata": {},
   "source": [
    "## Question 2:\n",
    "\n",
    "Are there any significant differences in the dollar amount of sales amongst employees?"
   ]
  },
  {
   "cell_type": "code",
   "execution_count": 69,
   "metadata": {
    "scrolled": false
   },
   "outputs": [
    {
     "data": {
      "text/html": [
       "<div>\n",
       "<style scoped>\n",
       "    .dataframe tbody tr th:only-of-type {\n",
       "        vertical-align: middle;\n",
       "    }\n",
       "\n",
       "    .dataframe tbody tr th {\n",
       "        vertical-align: top;\n",
       "    }\n",
       "\n",
       "    .dataframe thead th {\n",
       "        text-align: right;\n",
       "    }\n",
       "</style>\n",
       "<table border=\"1\" class=\"dataframe\">\n",
       "  <thead>\n",
       "    <tr style=\"text-align: right;\">\n",
       "      <th></th>\n",
       "      <th>UnitPrice</th>\n",
       "      <th>Quantity</th>\n",
       "      <th>BirthDate</th>\n",
       "      <th>Id</th>\n",
       "      <th>Total_Sale</th>\n",
       "    </tr>\n",
       "  </thead>\n",
       "  <tbody>\n",
       "    <tr>\n",
       "      <th>0</th>\n",
       "      <td>14.0</td>\n",
       "      <td>12</td>\n",
       "      <td>1987-03-04</td>\n",
       "      <td>5</td>\n",
       "      <td>168.0</td>\n",
       "    </tr>\n",
       "    <tr>\n",
       "      <th>1</th>\n",
       "      <td>9.8</td>\n",
       "      <td>10</td>\n",
       "      <td>1987-03-04</td>\n",
       "      <td>5</td>\n",
       "      <td>98.0</td>\n",
       "    </tr>\n",
       "    <tr>\n",
       "      <th>2</th>\n",
       "      <td>34.8</td>\n",
       "      <td>5</td>\n",
       "      <td>1987-03-04</td>\n",
       "      <td>5</td>\n",
       "      <td>174.0</td>\n",
       "    </tr>\n",
       "    <tr>\n",
       "      <th>3</th>\n",
       "      <td>18.6</td>\n",
       "      <td>9</td>\n",
       "      <td>1995-07-02</td>\n",
       "      <td>6</td>\n",
       "      <td>167.4</td>\n",
       "    </tr>\n",
       "    <tr>\n",
       "      <th>4</th>\n",
       "      <td>42.4</td>\n",
       "      <td>40</td>\n",
       "      <td>1995-07-02</td>\n",
       "      <td>6</td>\n",
       "      <td>1696.0</td>\n",
       "    </tr>\n",
       "  </tbody>\n",
       "</table>\n",
       "</div>"
      ],
      "text/plain": [
       "   UnitPrice  Quantity   BirthDate  Id  Total_Sale\n",
       "0       14.0        12  1987-03-04   5       168.0\n",
       "1        9.8        10  1987-03-04   5        98.0\n",
       "2       34.8         5  1987-03-04   5       174.0\n",
       "3       18.6         9  1995-07-02   6       167.4\n",
       "4       42.4        40  1995-07-02   6      1696.0"
      ]
     },
     "execution_count": 69,
     "metadata": {},
     "output_type": "execute_result"
    }
   ],
   "source": [
    "cur.execute(\"\"\"SELECT OD.unitprice, OD.quantity, E.birthdate, E.Id FROM Employee as E\n",
    "                        join [Order] as O \n",
    "                        on E.Id = O.EmployeeId\n",
    "                        join [OrderDetail] as OD\n",
    "                        on OD.OrderId = O.Id;\n",
    "                        \"\"\")\n",
    "\n",
    "dfq2 = pd.DataFrame(cur.fetchall())\n",
    "dfq2.columns = [i[0] for i in cur.description]\n",
    "dfq2['Total_Sale'] = dfq2['UnitPrice'] * dfq2['Quantity']\n",
    "dfq2.head()"
   ]
  },
  {
   "cell_type": "code",
   "execution_count": 70,
   "metadata": {},
   "outputs": [
    {
     "data": {
      "text/plain": [
       "628.5190672853829"
      ]
     },
     "execution_count": 70,
     "metadata": {},
     "output_type": "execute_result"
    }
   ],
   "source": [
    "eavg = np.mean(dfq2['Total_Sale'])\n",
    "eavg"
   ]
  },
  {
   "cell_type": "code",
   "execution_count": 355,
   "metadata": {},
   "outputs": [],
   "source": [
    "e1 = np.mean(dfq2[dfq2['Id']==1]['Total_Sale'])\n",
    "e2 = np.mean(dfq2[dfq2['Id']==2]['Total_Sale'])\n",
    "e3 = np.mean(dfq2[dfq2['Id']==3]['Total_Sale'])\n",
    "e4 = np.mean(dfq2[dfq2['Id']==4]['Total_Sale'])\n",
    "e5 = np.mean(dfq2[dfq2['Id']==5]['Total_Sale'])\n",
    "e6 = np.mean(dfq2[dfq2['Id']==6]['Total_Sale'])\n",
    "e7 = np.mean(dfq2[dfq2['Id']==7]['Total_Sale'])\n",
    "e8 = np.mean(dfq2[dfq2['Id']==8]['Total_Sale'])\n",
    "e9 = np.mean(dfq2[dfq2['Id']==9]['Total_Sale'])"
   ]
  },
  {
   "cell_type": "code",
   "execution_count": 356,
   "metadata": {},
   "outputs": [
    {
     "data": {
      "text/html": [
       "<div>\n",
       "<style scoped>\n",
       "    .dataframe tbody tr th:only-of-type {\n",
       "        vertical-align: middle;\n",
       "    }\n",
       "\n",
       "    .dataframe tbody tr th {\n",
       "        vertical-align: top;\n",
       "    }\n",
       "\n",
       "    .dataframe thead th {\n",
       "        text-align: right;\n",
       "    }\n",
       "</style>\n",
       "<table border=\"1\" class=\"dataframe\">\n",
       "  <thead>\n",
       "    <tr style=\"text-align: right;\">\n",
       "      <th></th>\n",
       "      <th>e1</th>\n",
       "      <th>e2</th>\n",
       "      <th>e3</th>\n",
       "      <th>e4</th>\n",
       "      <th>e5</th>\n",
       "      <th>e6</th>\n",
       "      <th>e7</th>\n",
       "      <th>e8</th>\n",
       "      <th>e9</th>\n",
       "      <th>eavg</th>\n",
       "    </tr>\n",
       "  </thead>\n",
       "  <tbody>\n",
       "    <tr>\n",
       "      <th>0</th>\n",
       "      <td>585.923797</td>\n",
       "      <td>737.548797</td>\n",
       "      <td>663.711215</td>\n",
       "      <td>595.684405</td>\n",
       "      <td>645.878205</td>\n",
       "      <td>465.464881</td>\n",
       "      <td>802.818125</td>\n",
       "      <td>512.696269</td>\n",
       "      <td>775.364486</td>\n",
       "      <td>628.519067</td>\n",
       "    </tr>\n",
       "  </tbody>\n",
       "</table>\n",
       "</div>"
      ],
      "text/plain": [
       "           e1          e2          e3          e4          e5          e6  \\\n",
       "0  585.923797  737.548797  663.711215  595.684405  645.878205  465.464881   \n",
       "\n",
       "           e7          e8          e9        eavg  \n",
       "0  802.818125  512.696269  775.364486  628.519067  "
      ]
     },
     "execution_count": 356,
     "metadata": {},
     "output_type": "execute_result"
    }
   ],
   "source": [
    "employee_avg_sales = {'e1':e1, 'e2':e2, 'e3':e3, 'e4':e4, 'e5':e5, 'e6':e6, 'e7':e7, 'e8':e8, 'e9':e9, 'eavg':eavg}\n",
    "employee_avg_sales_df = pd.DataFrame(employee_avg_sales, index = [0])\n",
    "employee_avg_sales_df_log = np.log(employee_avg_sales_df)\n",
    "employee_avg_sales_df"
   ]
  },
  {
   "cell_type": "code",
   "execution_count": 521,
   "metadata": {
    "scrolled": true
   },
   "outputs": [
    {
     "ename": "TypeError",
     "evalue": "'int' object is not iterable",
     "output_type": "error",
     "traceback": [
      "\u001b[0;31m---------------------------------------------------------------------------\u001b[0m",
      "\u001b[0;31mTypeError\u001b[0m                                 Traceback (most recent call last)",
      "\u001b[0;32m<ipython-input-521-8ee35e46b053>\u001b[0m in \u001b[0;36m<module>\u001b[0;34m\u001b[0m\n\u001b[1;32m      3\u001b[0m \u001b[0mplt\u001b[0m\u001b[0;34m.\u001b[0m\u001b[0mxlabel\u001b[0m\u001b[0;34m(\u001b[0m\u001b[0;34m'Employee'\u001b[0m\u001b[0;34m)\u001b[0m\u001b[0;34m\u001b[0m\u001b[0;34m\u001b[0m\u001b[0m\n\u001b[1;32m      4\u001b[0m \u001b[0mplt\u001b[0m\u001b[0;34m.\u001b[0m\u001b[0mylabel\u001b[0m\u001b[0;34m(\u001b[0m\u001b[0;34m'Sales Amount in Dollars'\u001b[0m\u001b[0;34m)\u001b[0m\u001b[0;34m\u001b[0m\u001b[0;34m\u001b[0m\u001b[0m\n\u001b[0;32m----> 5\u001b[0;31m \u001b[0mplt\u001b[0m\u001b[0;34m.\u001b[0m\u001b[0mxticks\u001b[0m\u001b[0;34m(\u001b[0m\u001b[0mnp\u001b[0m\u001b[0;34m.\u001b[0m\u001b[0marange\u001b[0m\u001b[0;34m(\u001b[0m\u001b[0;36m0\u001b[0m\u001b[0;34m)\u001b[0m\u001b[0;34m,\u001b[0m \u001b[0;36m10\u001b[0m\u001b[0;34m)\u001b[0m\u001b[0;34m\u001b[0m\u001b[0;34m\u001b[0m\u001b[0m\n\u001b[0m\u001b[1;32m      6\u001b[0m \u001b[0mplt\u001b[0m\u001b[0;34m.\u001b[0m\u001b[0mshow\u001b[0m\u001b[0;34m(\u001b[0m\u001b[0;34m)\u001b[0m\u001b[0;34m\u001b[0m\u001b[0;34m\u001b[0m\u001b[0m\n",
      "\u001b[0;32m~/anaconda3/lib/python3.7/site-packages/matplotlib/pyplot.py\u001b[0m in \u001b[0;36mxticks\u001b[0;34m(ticks, labels, **kwargs)\u001b[0m\n\u001b[1;32m   1551\u001b[0m     \u001b[0;32melse\u001b[0m\u001b[0;34m:\u001b[0m\u001b[0;34m\u001b[0m\u001b[0;34m\u001b[0m\u001b[0m\n\u001b[1;32m   1552\u001b[0m         \u001b[0mlocs\u001b[0m \u001b[0;34m=\u001b[0m \u001b[0max\u001b[0m\u001b[0;34m.\u001b[0m\u001b[0mset_xticks\u001b[0m\u001b[0;34m(\u001b[0m\u001b[0mticks\u001b[0m\u001b[0;34m)\u001b[0m\u001b[0;34m\u001b[0m\u001b[0;34m\u001b[0m\u001b[0m\n\u001b[0;32m-> 1553\u001b[0;31m         \u001b[0mlabels\u001b[0m \u001b[0;34m=\u001b[0m \u001b[0max\u001b[0m\u001b[0;34m.\u001b[0m\u001b[0mset_xticklabels\u001b[0m\u001b[0;34m(\u001b[0m\u001b[0mlabels\u001b[0m\u001b[0;34m,\u001b[0m \u001b[0;34m**\u001b[0m\u001b[0mkwargs\u001b[0m\u001b[0;34m)\u001b[0m\u001b[0;34m\u001b[0m\u001b[0;34m\u001b[0m\u001b[0m\n\u001b[0m\u001b[1;32m   1554\u001b[0m     \u001b[0;32mfor\u001b[0m \u001b[0ml\u001b[0m \u001b[0;32min\u001b[0m \u001b[0mlabels\u001b[0m\u001b[0;34m:\u001b[0m\u001b[0;34m\u001b[0m\u001b[0;34m\u001b[0m\u001b[0m\n\u001b[1;32m   1555\u001b[0m         \u001b[0ml\u001b[0m\u001b[0;34m.\u001b[0m\u001b[0mupdate\u001b[0m\u001b[0;34m(\u001b[0m\u001b[0mkwargs\u001b[0m\u001b[0;34m)\u001b[0m\u001b[0;34m\u001b[0m\u001b[0;34m\u001b[0m\u001b[0m\n",
      "\u001b[0;32m~/anaconda3/lib/python3.7/site-packages/matplotlib/axes/_base.py\u001b[0m in \u001b[0;36mset_xticklabels\u001b[0;34m(self, labels, fontdict, minor, **kwargs)\u001b[0m\n\u001b[1;32m   3420\u001b[0m             \u001b[0mkwargs\u001b[0m\u001b[0;34m.\u001b[0m\u001b[0mupdate\u001b[0m\u001b[0;34m(\u001b[0m\u001b[0mfontdict\u001b[0m\u001b[0;34m)\u001b[0m\u001b[0;34m\u001b[0m\u001b[0;34m\u001b[0m\u001b[0m\n\u001b[1;32m   3421\u001b[0m         ret = self.xaxis.set_ticklabels(labels,\n\u001b[0;32m-> 3422\u001b[0;31m                                         minor=minor, **kwargs)\n\u001b[0m\u001b[1;32m   3423\u001b[0m         \u001b[0mself\u001b[0m\u001b[0;34m.\u001b[0m\u001b[0mstale\u001b[0m \u001b[0;34m=\u001b[0m \u001b[0;32mTrue\u001b[0m\u001b[0;34m\u001b[0m\u001b[0;34m\u001b[0m\u001b[0m\n\u001b[1;32m   3424\u001b[0m         \u001b[0;32mreturn\u001b[0m \u001b[0mret\u001b[0m\u001b[0;34m\u001b[0m\u001b[0;34m\u001b[0m\u001b[0m\n",
      "\u001b[0;32m~/anaconda3/lib/python3.7/site-packages/matplotlib/axis.py\u001b[0m in \u001b[0;36mset_ticklabels\u001b[0;34m(self, ticklabels, minor, *args, **kwargs)\u001b[0m\n\u001b[1;32m   1661\u001b[0m         \"\"\"\n\u001b[1;32m   1662\u001b[0m         \u001b[0mget_labels\u001b[0m \u001b[0;34m=\u001b[0m \u001b[0;34m[\u001b[0m\u001b[0;34m]\u001b[0m\u001b[0;34m\u001b[0m\u001b[0;34m\u001b[0m\u001b[0m\n\u001b[0;32m-> 1663\u001b[0;31m         \u001b[0;32mfor\u001b[0m \u001b[0mt\u001b[0m \u001b[0;32min\u001b[0m \u001b[0mticklabels\u001b[0m\u001b[0;34m:\u001b[0m\u001b[0;34m\u001b[0m\u001b[0;34m\u001b[0m\u001b[0m\n\u001b[0m\u001b[1;32m   1664\u001b[0m             \u001b[0;31m# try calling get_text() to check whether it is Text object\u001b[0m\u001b[0;34m\u001b[0m\u001b[0;34m\u001b[0m\u001b[0;34m\u001b[0m\u001b[0m\n\u001b[1;32m   1665\u001b[0m             \u001b[0;31m# if it is Text, get label content\u001b[0m\u001b[0;34m\u001b[0m\u001b[0;34m\u001b[0m\u001b[0;34m\u001b[0m\u001b[0m\n",
      "\u001b[0;31mTypeError\u001b[0m: 'int' object is not iterable"
     ]
    },
    {
     "data": {
      "image/png": "[encoded data removed]",
      "text/plain": [
       "<Figure size 576x432 with 1 Axes>"
      ]
     },
     "metadata": {},
     "output_type": "display_data"
    }
   ],
   "source": [
    "employee_avg_sales_df.plot(kind = 'bar', figsize = (8,6))\n",
    "plt.title('Number of Sales by Age of Employee')\n",
    "plt.xlabel('Employee')\n",
    "plt.ylabel('Sales Amount in Dollars')\n",
    "plt.xticks(np.arange(0), 10)\n",
    "plt.show()"
   ]
  },
  {
   "cell_type": "code",
   "execution_count": 104,
   "metadata": {
    "scrolled": true
   },
   "outputs": [
    {
     "data": {
      "image/png": "[encoded data removed]",
      "text/plain": [
       "<Figure size 576x432 with 1 Axes>"
      ]
     },
     "metadata": {},
     "output_type": "display_data"
    }
   ],
   "source": [
    "sns.distplot(employee_avg_sales_df, bins = 10)\n",
    "sns.set(color_codes=True)\n",
    "sns.set(rc={'figure.figsize':(8,6)})"
   ]
  },
  {
   "cell_type": "code",
   "execution_count": 117,
   "metadata": {},
   "outputs": [
    {
     "name": "stdout",
     "output_type": "stream",
     "text": [
      "Statistics=10.511, p=0.231\n",
      "Same distributions (fail to reject H0)\n"
     ]
    }
   ],
   "source": [
    "from scipy.stats import kruskal\n",
    "stat, p = kruskal(e1, e2, e3, e4, e5, e6, e7, e8, e9)\n",
    "print('Statistics=%.3f, p=%.3f' % (stat, p))\n",
    "# interpret\n",
    "alpha = 0.05\n",
    "if p > alpha:\n",
    "    print('Same distributions (fail to reject H0)')\n",
    "else:\n",
    "    print('Different distributions (reject H0)')"
   ]
  },
  {
   "cell_type": "markdown",
   "metadata": {},
   "source": [
    "## Question 3: \n",
    "\n",
    "Are any regions in Europe underperforming in customer sales?"
   ]
  },
  {
   "cell_type": "code",
   "execution_count": 130,
   "metadata": {},
   "outputs": [],
   "source": [
    "conn = sqlite3.connect(\"Northwind_small.sqlite\", detect_types=sqlite3.PARSE_COLNAMES)\n",
    "cur = conn.cursor()"
   ]
  },
  {
   "cell_type": "code",
   "execution_count": 500,
   "metadata": {
    "scrolled": false
   },
   "outputs": [
    {
     "data": {
      "text/html": [
       "<div>\n",
       "<style scoped>\n",
       "    .dataframe tbody tr th:only-of-type {\n",
       "        vertical-align: middle;\n",
       "    }\n",
       "\n",
       "    .dataframe tbody tr th {\n",
       "        vertical-align: top;\n",
       "    }\n",
       "\n",
       "    .dataframe thead th {\n",
       "        text-align: right;\n",
       "    }\n",
       "</style>\n",
       "<table border=\"1\" class=\"dataframe\">\n",
       "  <thead>\n",
       "    <tr style=\"text-align: right;\">\n",
       "      <th></th>\n",
       "      <th>Id</th>\n",
       "      <th>Id</th>\n",
       "      <th>Id</th>\n",
       "      <th>City</th>\n",
       "      <th>Region</th>\n",
       "      <th>Country</th>\n",
       "      <th>OrderDate</th>\n",
       "      <th>UnitPrice</th>\n",
       "      <th>Quantity</th>\n",
       "      <th>Total_Sale</th>\n",
       "    </tr>\n",
       "  </thead>\n",
       "  <tbody>\n",
       "    <tr>\n",
       "      <th>0</th>\n",
       "      <td>10248</td>\n",
       "      <td>VINET</td>\n",
       "      <td>10248/11</td>\n",
       "      <td>Reims</td>\n",
       "      <td>Western Europe</td>\n",
       "      <td>France</td>\n",
       "      <td>2012-07-04</td>\n",
       "      <td>14.0</td>\n",
       "      <td>12</td>\n",
       "      <td>168.0</td>\n",
       "    </tr>\n",
       "    <tr>\n",
       "      <th>1</th>\n",
       "      <td>10248</td>\n",
       "      <td>VINET</td>\n",
       "      <td>10248/42</td>\n",
       "      <td>Reims</td>\n",
       "      <td>Western Europe</td>\n",
       "      <td>France</td>\n",
       "      <td>2012-07-04</td>\n",
       "      <td>9.8</td>\n",
       "      <td>10</td>\n",
       "      <td>98.0</td>\n",
       "    </tr>\n",
       "    <tr>\n",
       "      <th>2</th>\n",
       "      <td>10248</td>\n",
       "      <td>VINET</td>\n",
       "      <td>10248/72</td>\n",
       "      <td>Reims</td>\n",
       "      <td>Western Europe</td>\n",
       "      <td>France</td>\n",
       "      <td>2012-07-04</td>\n",
       "      <td>34.8</td>\n",
       "      <td>5</td>\n",
       "      <td>174.0</td>\n",
       "    </tr>\n",
       "    <tr>\n",
       "      <th>3</th>\n",
       "      <td>10249</td>\n",
       "      <td>TOMSP</td>\n",
       "      <td>10249/14</td>\n",
       "      <td>Münster</td>\n",
       "      <td>Western Europe</td>\n",
       "      <td>Germany</td>\n",
       "      <td>2012-07-05</td>\n",
       "      <td>18.6</td>\n",
       "      <td>9</td>\n",
       "      <td>167.4</td>\n",
       "    </tr>\n",
       "    <tr>\n",
       "      <th>4</th>\n",
       "      <td>10249</td>\n",
       "      <td>TOMSP</td>\n",
       "      <td>10249/51</td>\n",
       "      <td>Münster</td>\n",
       "      <td>Western Europe</td>\n",
       "      <td>Germany</td>\n",
       "      <td>2012-07-05</td>\n",
       "      <td>42.4</td>\n",
       "      <td>40</td>\n",
       "      <td>1696.0</td>\n",
       "    </tr>\n",
       "  </tbody>\n",
       "</table>\n",
       "</div>"
      ],
      "text/plain": [
       "      Id     Id        Id     City          Region  Country   OrderDate  \\\n",
       "0  10248  VINET  10248/11    Reims  Western Europe   France  2012-07-04   \n",
       "1  10248  VINET  10248/42    Reims  Western Europe   France  2012-07-04   \n",
       "2  10248  VINET  10248/72    Reims  Western Europe   France  2012-07-04   \n",
       "3  10249  TOMSP  10249/14  Münster  Western Europe  Germany  2012-07-05   \n",
       "4  10249  TOMSP  10249/51  Münster  Western Europe  Germany  2012-07-05   \n",
       "\n",
       "   UnitPrice  Quantity  Total_Sale  \n",
       "0       14.0        12       168.0  \n",
       "1        9.8        10        98.0  \n",
       "2       34.8         5       174.0  \n",
       "3       18.6         9       167.4  \n",
       "4       42.4        40      1696.0  "
      ]
     },
     "execution_count": 500,
     "metadata": {},
     "output_type": "execute_result"
    }
   ],
   "source": [
    "cur.execute(\"\"\"SELECT * FROM [Order]\n",
    "                        join Customer\n",
    "                        on [Order].CustomerId = Customer.Id\n",
    "                        join [OrderDetail]\n",
    "                        on [OrderDetail].OrderId = [Order].Id\"\"\")\n",
    "\n",
    "dfq3 = pd.DataFrame(cur.fetchall())\n",
    "dfq3.columns = [i[0] for i in cur.description]\n",
    "dfq3 = dfq3[['Id', 'City', 'Region', 'Country', 'OrderDate', 'UnitPrice', 'Quantity']]\n",
    "dfq3['Total_Sale'] = dfq2['UnitPrice'] * dfq2['Quantity']\n",
    "dfq3.head()"
   ]
  },
  {
   "cell_type": "code",
   "execution_count": 503,
   "metadata": {},
   "outputs": [],
   "source": [
    "W = dfq3[dfq3['Region']=='Western Europe']['Total_Sale']\n",
    "E = dfq3[dfq3['Region']=='Eastern Europe']['Total_Sale']\n",
    "S = dfq3[dfq3['Region']=='Southern Europe']['Total_Sale']\n",
    "N = dfq3[dfq3['Region']=='Norhtern Europe']['Total_Sale']"
   ]
  },
  {
   "cell_type": "code",
   "execution_count": 504,
   "metadata": {},
   "outputs": [
    {
     "name": "stdout",
     "output_type": "stream",
     "text": [
      "Statistics=nan, p=nan\n",
      "Different distributions (reject H0)\n"
     ]
    }
   ],
   "source": [
    "stat, p = kruskal(N, W, E, S)\n",
    "print('Statistics=%.3f, p=%.3f' % (stat, p))\n",
    "# interpret\n",
    "alpha = 0.05\n",
    "if p > alpha:\n",
    "    print('Same distributions (fail to reject H0)')\n",
    "else:\n",
    "    print('Different distributions (reject H0)')"
   ]
  },
  {
   "cell_type": "markdown",
   "metadata": {},
   "source": [
    "## Question 4:\n",
    "\n",
    "Do employees with more territories generate more sales?"
   ]
  },
  {
   "cell_type": "code",
   "execution_count": 318,
   "metadata": {},
   "outputs": [
    {
     "data": {
      "text/html": [
       "<div>\n",
       "<style scoped>\n",
       "    .dataframe tbody tr th:only-of-type {\n",
       "        vertical-align: middle;\n",
       "    }\n",
       "\n",
       "    .dataframe tbody tr th {\n",
       "        vertical-align: top;\n",
       "    }\n",
       "\n",
       "    .dataframe thead th {\n",
       "        text-align: right;\n",
       "    }\n",
       "</style>\n",
       "<table border=\"1\" class=\"dataframe\">\n",
       "  <thead>\n",
       "    <tr style=\"text-align: right;\">\n",
       "      <th></th>\n",
       "      <th>Id</th>\n",
       "      <th>LastName</th>\n",
       "      <th>FirstName</th>\n",
       "      <th>Title</th>\n",
       "      <th>TitleOfCourtesy</th>\n",
       "      <th>BirthDate</th>\n",
       "      <th>HireDate</th>\n",
       "      <th>Address</th>\n",
       "      <th>City</th>\n",
       "      <th>Region</th>\n",
       "      <th>...</th>\n",
       "      <th>Photo</th>\n",
       "      <th>Notes</th>\n",
       "      <th>ReportsTo</th>\n",
       "      <th>PhotoPath</th>\n",
       "      <th>Id</th>\n",
       "      <th>EmployeeId</th>\n",
       "      <th>TerritoryId</th>\n",
       "      <th>Id</th>\n",
       "      <th>TerritoryDescription</th>\n",
       "      <th>RegionId</th>\n",
       "    </tr>\n",
       "  </thead>\n",
       "  <tbody>\n",
       "    <tr>\n",
       "      <th>0</th>\n",
       "      <td>1</td>\n",
       "      <td>Davolio</td>\n",
       "      <td>Nancy</td>\n",
       "      <td>Sales Representative</td>\n",
       "      <td>Ms.</td>\n",
       "      <td>1980-12-08</td>\n",
       "      <td>2024-05-01</td>\n",
       "      <td>507 - 20th Ave. E. Apt. 2A</td>\n",
       "      <td>Seattle</td>\n",
       "      <td>North America</td>\n",
       "      <td>...</td>\n",
       "      <td>None</td>\n",
       "      <td>Education includes a BA in psychology from Col...</td>\n",
       "      <td>2.0</td>\n",
       "      <td>http://accweb/emmployees/davolio.bmp</td>\n",
       "      <td>1/06897</td>\n",
       "      <td>1</td>\n",
       "      <td>06897</td>\n",
       "      <td>06897</td>\n",
       "      <td>Wilton</td>\n",
       "      <td>1</td>\n",
       "    </tr>\n",
       "    <tr>\n",
       "      <th>1</th>\n",
       "      <td>1</td>\n",
       "      <td>Davolio</td>\n",
       "      <td>Nancy</td>\n",
       "      <td>Sales Representative</td>\n",
       "      <td>Ms.</td>\n",
       "      <td>1980-12-08</td>\n",
       "      <td>2024-05-01</td>\n",
       "      <td>507 - 20th Ave. E. Apt. 2A</td>\n",
       "      <td>Seattle</td>\n",
       "      <td>North America</td>\n",
       "      <td>...</td>\n",
       "      <td>None</td>\n",
       "      <td>Education includes a BA in psychology from Col...</td>\n",
       "      <td>2.0</td>\n",
       "      <td>http://accweb/emmployees/davolio.bmp</td>\n",
       "      <td>1/19713</td>\n",
       "      <td>1</td>\n",
       "      <td>19713</td>\n",
       "      <td>19713</td>\n",
       "      <td>Neward</td>\n",
       "      <td>1</td>\n",
       "    </tr>\n",
       "    <tr>\n",
       "      <th>2</th>\n",
       "      <td>2</td>\n",
       "      <td>Fuller</td>\n",
       "      <td>Andrew</td>\n",
       "      <td>Vice President, Sales</td>\n",
       "      <td>Dr.</td>\n",
       "      <td>1984-02-19</td>\n",
       "      <td>2024-08-14</td>\n",
       "      <td>908 W. Capital Way</td>\n",
       "      <td>Tacoma</td>\n",
       "      <td>North America</td>\n",
       "      <td>...</td>\n",
       "      <td>None</td>\n",
       "      <td>Andrew received his BTS commercial in 1974 and...</td>\n",
       "      <td>NaN</td>\n",
       "      <td>http://accweb/emmployees/fuller.bmp</td>\n",
       "      <td>2/01581</td>\n",
       "      <td>2</td>\n",
       "      <td>01581</td>\n",
       "      <td>01581</td>\n",
       "      <td>Westboro</td>\n",
       "      <td>1</td>\n",
       "    </tr>\n",
       "    <tr>\n",
       "      <th>3</th>\n",
       "      <td>2</td>\n",
       "      <td>Fuller</td>\n",
       "      <td>Andrew</td>\n",
       "      <td>Vice President, Sales</td>\n",
       "      <td>Dr.</td>\n",
       "      <td>1984-02-19</td>\n",
       "      <td>2024-08-14</td>\n",
       "      <td>908 W. Capital Way</td>\n",
       "      <td>Tacoma</td>\n",
       "      <td>North America</td>\n",
       "      <td>...</td>\n",
       "      <td>None</td>\n",
       "      <td>Andrew received his BTS commercial in 1974 and...</td>\n",
       "      <td>NaN</td>\n",
       "      <td>http://accweb/emmployees/fuller.bmp</td>\n",
       "      <td>2/01730</td>\n",
       "      <td>2</td>\n",
       "      <td>01730</td>\n",
       "      <td>01730</td>\n",
       "      <td>Bedford</td>\n",
       "      <td>1</td>\n",
       "    </tr>\n",
       "    <tr>\n",
       "      <th>4</th>\n",
       "      <td>2</td>\n",
       "      <td>Fuller</td>\n",
       "      <td>Andrew</td>\n",
       "      <td>Vice President, Sales</td>\n",
       "      <td>Dr.</td>\n",
       "      <td>1984-02-19</td>\n",
       "      <td>2024-08-14</td>\n",
       "      <td>908 W. Capital Way</td>\n",
       "      <td>Tacoma</td>\n",
       "      <td>North America</td>\n",
       "      <td>...</td>\n",
       "      <td>None</td>\n",
       "      <td>Andrew received his BTS commercial in 1974 and...</td>\n",
       "      <td>NaN</td>\n",
       "      <td>http://accweb/emmployees/fuller.bmp</td>\n",
       "      <td>2/01833</td>\n",
       "      <td>2</td>\n",
       "      <td>01833</td>\n",
       "      <td>01833</td>\n",
       "      <td>Georgetow</td>\n",
       "      <td>1</td>\n",
       "    </tr>\n",
       "  </tbody>\n",
       "</table>\n",
       "<p>5 rows × 24 columns</p>\n",
       "</div>"
      ],
      "text/plain": [
       "  Id LastName FirstName                  Title TitleOfCourtesy   BirthDate  \\\n",
       "0  1  Davolio     Nancy   Sales Representative             Ms.  1980-12-08   \n",
       "1  1  Davolio     Nancy   Sales Representative             Ms.  1980-12-08   \n",
       "2  2   Fuller    Andrew  Vice President, Sales             Dr.  1984-02-19   \n",
       "3  2   Fuller    Andrew  Vice President, Sales             Dr.  1984-02-19   \n",
       "4  2   Fuller    Andrew  Vice President, Sales             Dr.  1984-02-19   \n",
       "\n",
       "     HireDate                     Address     City         Region    ...     \\\n",
       "0  2024-05-01  507 - 20th Ave. E. Apt. 2A  Seattle  North America    ...      \n",
       "1  2024-05-01  507 - 20th Ave. E. Apt. 2A  Seattle  North America    ...      \n",
       "2  2024-08-14          908 W. Capital Way   Tacoma  North America    ...      \n",
       "3  2024-08-14          908 W. Capital Way   Tacoma  North America    ...      \n",
       "4  2024-08-14          908 W. Capital Way   Tacoma  North America    ...      \n",
       "\n",
       "  Photo                                              Notes ReportsTo  \\\n",
       "0  None  Education includes a BA in psychology from Col...       2.0   \n",
       "1  None  Education includes a BA in psychology from Col...       2.0   \n",
       "2  None  Andrew received his BTS commercial in 1974 and...       NaN   \n",
       "3  None  Andrew received his BTS commercial in 1974 and...       NaN   \n",
       "4  None  Andrew received his BTS commercial in 1974 and...       NaN   \n",
       "\n",
       "                              PhotoPath       Id EmployeeId  TerritoryId  \\\n",
       "0  http://accweb/emmployees/davolio.bmp  1/06897          1        06897   \n",
       "1  http://accweb/emmployees/davolio.bmp  1/19713          1        19713   \n",
       "2   http://accweb/emmployees/fuller.bmp  2/01581          2        01581   \n",
       "3   http://accweb/emmployees/fuller.bmp  2/01730          2        01730   \n",
       "4   http://accweb/emmployees/fuller.bmp  2/01833          2        01833   \n",
       "\n",
       "      Id TerritoryDescription  RegionId  \n",
       "0  06897               Wilton         1  \n",
       "1  19713               Neward         1  \n",
       "2  01581             Westboro         1  \n",
       "3  01730              Bedford         1  \n",
       "4  01833            Georgetow         1  \n",
       "\n",
       "[5 rows x 24 columns]"
      ]
     },
     "execution_count": 318,
     "metadata": {},
     "output_type": "execute_result"
    }
   ],
   "source": [
    "cur.execute(\"\"\"SELECT * FROM Employee AS e\n",
    "               JOIN EmployeeTerritory AS et\n",
    "               on e.Id = et.EmployeeId\n",
    "               JOIN Territory AS t\n",
    "               on et.TerritoryId = t.Id;\"\"\")\n",
    "\n",
    "dfq4 = pd.DataFrame(cur.fetchall())\n",
    "dfq4.columns = [i[0] for i in cur.description]\n",
    "#dfq4 = dfq4[['Id', 'ProductName', 'UnitsInStock', 'UnitsOnOrder', 'CategoryName']]\n",
    "dfq4.head()"
   ]
  },
  {
   "cell_type": "code",
   "execution_count": 457,
   "metadata": {},
   "outputs": [],
   "source": [
    "emp1_terr = dfq4[dfq4['EmployeeId']==1]['TerritoryId'].unique().shape[0]\n",
    "emp2_terr = dfq4[dfq4['EmployeeId']==2]['TerritoryId'].unique().shape[0]\n",
    "emp3_terr = dfq4[dfq4['EmployeeId']==3]['TerritoryId'].unique().shape[0]\n",
    "emp4_terr = dfq4[dfq4['EmployeeId']==4]['TerritoryId'].unique().shape[0]\n",
    "emp5_terr = dfq4[dfq4['EmployeeId']==5]['TerritoryId'].unique().shape[0]\n",
    "emp6_terr = dfq4[dfq4['EmployeeId']==6]['TerritoryId'].unique().shape[0]\n",
    "emp7_terr = dfq4[dfq4['EmployeeId']==7]['TerritoryId'].unique().shape[0]\n",
    "emp8_terr = dfq4[dfq4['EmployeeId']==8]['TerritoryId'].unique().shape[0]\n",
    "emp9_terr = dfq4[dfq4['EmployeeId']==9]['TerritoryId'].unique().shape[0]"
   ]
  },
  {
   "cell_type": "code",
   "execution_count": 436,
   "metadata": {},
   "outputs": [],
   "source": [
    "# Num of Territories\n",
    "# 2, 7, 4, 3, 7, 5, 10, 4, 7\n",
    "\n",
    "# High territories > 6 (Employee Id's 2, 5, 7, 9)\n",
    "# Low territories < 6 (Employee Id's 1, 3, 4, 6, 8)"
   ]
  },
  {
   "cell_type": "code",
   "execution_count": null,
   "metadata": {},
   "outputs": [],
   "source": [
    "# avg. sales high terr vs. avg. sales low terr"
   ]
  },
  {
   "cell_type": "code",
   "execution_count": 466,
   "metadata": {},
   "outputs": [],
   "source": [
    "df_high_terr1 = dfq2.loc[(dfq2['Id'] == 2)]\n",
    "df_high_terr2 = dfq2.loc[(dfq2['Id'] == 5)]\n",
    "df_high_terr3 = dfq2.loc[(dfq2['Id'] == 7)]\n",
    "df_high_terr4 = dfq2.loc[(dfq2['Id'] == 9)]"
   ]
  },
  {
   "cell_type": "code",
   "execution_count": 468,
   "metadata": {},
   "outputs": [],
   "source": [
    "df_high_terr = pd.concat([df_high_terr1, df_high_terr2, df_high_terr3, df_high_terr4])"
   ]
  },
  {
   "cell_type": "code",
   "execution_count": 471,
   "metadata": {},
   "outputs": [],
   "source": [
    "df_low_terr1 = dfq2.loc[(dfq2['Id'] == 1)]\n",
    "df_low_terr2 = dfq2.loc[(dfq2['Id'] == 3)]\n",
    "df_low_terr3 = dfq2.loc[(dfq2['Id'] == 4)]\n",
    "df_low_terr4 = dfq2.loc[(dfq2['Id'] == 6)]\n",
    "df_low_terr5 = dfq2.loc[(dfq2['Id'] == 8)]"
   ]
  },
  {
   "cell_type": "code",
   "execution_count": 472,
   "metadata": {},
   "outputs": [],
   "source": [
    "df_low_terr = pd.concat([df_low_terr1, df_low_terr2, df_low_terr3, df_low_terr4, df_low_terr5])"
   ]
  },
  {
   "cell_type": "code",
   "execution_count": 488,
   "metadata": {},
   "outputs": [],
   "source": [
    "experimental = df_high_terr['Total_Sale']\n",
    "control = df_low_terr['Total_Sale']"
   ]
  },
  {
   "cell_type": "code",
   "execution_count": 490,
   "metadata": {},
   "outputs": [
    {
     "data": {
      "text/plain": [
       "745.04992199688"
      ]
     },
     "execution_count": 490,
     "metadata": {},
     "output_type": "execute_result"
    }
   ],
   "source": [
    "np.mean(experimental)"
   ]
  },
  {
   "cell_type": "code",
   "execution_count": 491,
   "metadata": {},
   "outputs": [
    {
     "data": {
      "text/plain": [
       "579.1820277410839"
      ]
     },
     "execution_count": 491,
     "metadata": {},
     "output_type": "execute_result"
    }
   ],
   "source": [
    "np.mean(control)"
   ]
  },
  {
   "cell_type": "code",
   "execution_count": 493,
   "metadata": {},
   "outputs": [
    {
     "data": {
      "image/png": "[encoded data removed]",
      "text/plain": [
       "<Figure size 720x432 with 1 Axes>"
      ]
     },
     "metadata": {},
     "output_type": "display_data"
    }
   ],
   "source": [
    "visualization(experimental, control)\n"
   ]
  },
  {
   "cell_type": "code",
   "execution_count": 498,
   "metadata": {},
   "outputs": [
    {
     "name": "stdout",
     "output_type": "stream",
     "text": [
      "Statistics = -3.404, p = 0.001\n",
      "Different distributions (reject H0)\n",
      "---------------------------------------------\n"
     ]
    }
   ],
   "source": [
    "st, p = stats.ttest_ind(control, experimental)\n",
    "print('Statistics = %.3f, p = %.3f' % (st, p))\n",
    "# interpret\n",
    "alpha = 0.05\n",
    "if p > alpha:\n",
    "    print('Same distributions (fail to reject H0)')\n",
    "else:\n",
    "    print('Different distributions (reject H0)')\n",
    "print('---------------------------------------------')"
   ]
  },
  {
   "cell_type": "markdown",
   "metadata": {},
   "source": [
    "## Question 5: \n",
    "\n",
    "Are there any product categories that go on backorder more than average?"
   ]
  },
  {
   "cell_type": "code",
   "execution_count": 215,
   "metadata": {},
   "outputs": [
    {
     "data": {
      "text/html": [
       "<div>\n",
       "<style scoped>\n",
       "    .dataframe tbody tr th:only-of-type {\n",
       "        vertical-align: middle;\n",
       "    }\n",
       "\n",
       "    .dataframe tbody tr th {\n",
       "        vertical-align: top;\n",
       "    }\n",
       "\n",
       "    .dataframe thead th {\n",
       "        text-align: right;\n",
       "    }\n",
       "</style>\n",
       "<table border=\"1\" class=\"dataframe\">\n",
       "  <thead>\n",
       "    <tr style=\"text-align: right;\">\n",
       "      <th></th>\n",
       "      <th>Id</th>\n",
       "      <th>Id</th>\n",
       "      <th>Id</th>\n",
       "      <th>ProductName</th>\n",
       "      <th>UnitsInStock</th>\n",
       "      <th>UnitsOnOrder</th>\n",
       "      <th>CategoryName</th>\n",
       "    </tr>\n",
       "  </thead>\n",
       "  <tbody>\n",
       "    <tr>\n",
       "      <th>0</th>\n",
       "      <td>11</td>\n",
       "      <td>10248/11</td>\n",
       "      <td>4</td>\n",
       "      <td>Queso Cabrales</td>\n",
       "      <td>22</td>\n",
       "      <td>30</td>\n",
       "      <td>Dairy Products</td>\n",
       "    </tr>\n",
       "    <tr>\n",
       "      <th>1</th>\n",
       "      <td>42</td>\n",
       "      <td>10248/42</td>\n",
       "      <td>5</td>\n",
       "      <td>Singaporean Hokkien Fried Mee</td>\n",
       "      <td>26</td>\n",
       "      <td>0</td>\n",
       "      <td>Grains/Cereals</td>\n",
       "    </tr>\n",
       "    <tr>\n",
       "      <th>2</th>\n",
       "      <td>72</td>\n",
       "      <td>10248/72</td>\n",
       "      <td>4</td>\n",
       "      <td>Mozzarella di Giovanni</td>\n",
       "      <td>14</td>\n",
       "      <td>0</td>\n",
       "      <td>Dairy Products</td>\n",
       "    </tr>\n",
       "    <tr>\n",
       "      <th>3</th>\n",
       "      <td>14</td>\n",
       "      <td>10249/14</td>\n",
       "      <td>7</td>\n",
       "      <td>Tofu</td>\n",
       "      <td>35</td>\n",
       "      <td>0</td>\n",
       "      <td>Produce</td>\n",
       "    </tr>\n",
       "    <tr>\n",
       "      <th>4</th>\n",
       "      <td>51</td>\n",
       "      <td>10249/51</td>\n",
       "      <td>7</td>\n",
       "      <td>Manjimup Dried Apples</td>\n",
       "      <td>20</td>\n",
       "      <td>0</td>\n",
       "      <td>Produce</td>\n",
       "    </tr>\n",
       "  </tbody>\n",
       "</table>\n",
       "</div>"
      ],
      "text/plain": [
       "   Id        Id  Id                    ProductName  UnitsInStock  \\\n",
       "0  11  10248/11   4                 Queso Cabrales            22   \n",
       "1  42  10248/42   5  Singaporean Hokkien Fried Mee            26   \n",
       "2  72  10248/72   4         Mozzarella di Giovanni            14   \n",
       "3  14  10249/14   7                           Tofu            35   \n",
       "4  51  10249/51   7          Manjimup Dried Apples            20   \n",
       "\n",
       "   UnitsOnOrder    CategoryName  \n",
       "0            30  Dairy Products  \n",
       "1             0  Grains/Cereals  \n",
       "2             0  Dairy Products  \n",
       "3             0         Produce  \n",
       "4             0         Produce  "
      ]
     },
     "execution_count": 215,
     "metadata": {},
     "output_type": "execute_result"
    }
   ],
   "source": [
    "cur.execute(\"\"\"SELECT * FROM Product\n",
    "                        JOIN [OrderDetail]\n",
    "                        on [OrderDetail].ProductId = Product.Id\n",
    "                        JOIN Category\n",
    "                        on Category.Id = Product.CategoryId;\"\"\")\n",
    "\n",
    "dfq5 = pd.DataFrame(cur.fetchall())\n",
    "dfq5.columns = [i[0] for i in cur.description]\n",
    "dfq5 = dfq5[['Id', 'ProductName', 'UnitsInStock', 'UnitsOnOrder', 'CategoryName']]\n",
    "dfq5.head()"
   ]
  },
  {
   "cell_type": "code",
   "execution_count": 234,
   "metadata": {
    "scrolled": true
   },
   "outputs": [
    {
     "data": {
      "text/html": [
       "<div>\n",
       "<style scoped>\n",
       "    .dataframe tbody tr th:only-of-type {\n",
       "        vertical-align: middle;\n",
       "    }\n",
       "\n",
       "    .dataframe tbody tr th {\n",
       "        vertical-align: top;\n",
       "    }\n",
       "\n",
       "    .dataframe thead th {\n",
       "        text-align: right;\n",
       "    }\n",
       "</style>\n",
       "<table border=\"1\" class=\"dataframe\">\n",
       "  <thead>\n",
       "    <tr style=\"text-align: right;\">\n",
       "      <th></th>\n",
       "      <th>Id</th>\n",
       "      <th>Id</th>\n",
       "      <th>Id</th>\n",
       "      <th>ProductName</th>\n",
       "      <th>UnitsInStock</th>\n",
       "      <th>UnitsOnOrder</th>\n",
       "      <th>CategoryName</th>\n",
       "      <th>UnitsonBackorder</th>\n",
       "    </tr>\n",
       "  </thead>\n",
       "  <tbody>\n",
       "    <tr>\n",
       "      <th>0</th>\n",
       "      <td>11</td>\n",
       "      <td>10248/11</td>\n",
       "      <td>4</td>\n",
       "      <td>Queso Cabrales</td>\n",
       "      <td>22</td>\n",
       "      <td>30</td>\n",
       "      <td>Dairy Products</td>\n",
       "      <td>8</td>\n",
       "    </tr>\n",
       "    <tr>\n",
       "      <th>1</th>\n",
       "      <td>31</td>\n",
       "      <td>10253/31</td>\n",
       "      <td>4</td>\n",
       "      <td>Gorgonzola Telino</td>\n",
       "      <td>0</td>\n",
       "      <td>70</td>\n",
       "      <td>Dairy Products</td>\n",
       "      <td>70</td>\n",
       "    </tr>\n",
       "    <tr>\n",
       "      <th>2</th>\n",
       "      <td>49</td>\n",
       "      <td>10253/49</td>\n",
       "      <td>3</td>\n",
       "      <td>Maxilaku</td>\n",
       "      <td>10</td>\n",
       "      <td>60</td>\n",
       "      <td>Confections</td>\n",
       "      <td>50</td>\n",
       "    </tr>\n",
       "    <tr>\n",
       "      <th>3</th>\n",
       "      <td>74</td>\n",
       "      <td>10254/74</td>\n",
       "      <td>7</td>\n",
       "      <td>Longlife Tofu</td>\n",
       "      <td>4</td>\n",
       "      <td>20</td>\n",
       "      <td>Produce</td>\n",
       "      <td>16</td>\n",
       "    </tr>\n",
       "    <tr>\n",
       "      <th>4</th>\n",
       "      <td>2</td>\n",
       "      <td>10255/2</td>\n",
       "      <td>1</td>\n",
       "      <td>Chang</td>\n",
       "      <td>17</td>\n",
       "      <td>40</td>\n",
       "      <td>Beverages</td>\n",
       "      <td>23</td>\n",
       "    </tr>\n",
       "  </tbody>\n",
       "</table>\n",
       "</div>"
      ],
      "text/plain": [
       "   Id        Id  Id        ProductName  UnitsInStock  UnitsOnOrder  \\\n",
       "0  11  10248/11   4     Queso Cabrales            22            30   \n",
       "1  31  10253/31   4  Gorgonzola Telino             0            70   \n",
       "2  49  10253/49   3           Maxilaku            10            60   \n",
       "3  74  10254/74   7      Longlife Tofu             4            20   \n",
       "4   2   10255/2   1              Chang            17            40   \n",
       "\n",
       "     CategoryName  UnitsonBackorder  \n",
       "0  Dairy Products                 8  \n",
       "1  Dairy Products                70  \n",
       "2     Confections                50  \n",
       "3         Produce                16  \n",
       "4       Beverages                23  "
      ]
     },
     "execution_count": 234,
     "metadata": {},
     "output_type": "execute_result"
    }
   ],
   "source": [
    "cur.execute(\"\"\"SELECT * FROM Product\n",
    "                        JOIN [OrderDetail]\n",
    "                        on [OrderDetail].ProductId = Product.Id\n",
    "                        JOIN Category\n",
    "                        on Category.Id = Product.CategoryId\n",
    "                        WHERE UnitsInStock < UnitsOnOrder;\"\"\")\n",
    "\n",
    "backorder_dfq5 = pd.DataFrame(cur.fetchall())\n",
    "backorder_dfq5.columns = [i[0] for i in cur.description]\n",
    "backorder_dfq5 = backorder_dfq5[['Id', 'ProductName', 'UnitsInStock', 'UnitsOnOrder', 'CategoryName']]\n",
    "backorder_dfq5['UnitsonBackorder'] = backorder_dfq5['UnitsOnOrder'] - backorder_dfq5['UnitsInStock']\n",
    "backorder_dfq5.head()"
   ]
  },
  {
   "cell_type": "code",
   "execution_count": 222,
   "metadata": {},
   "outputs": [
    {
     "data": {
      "text/plain": [
       "array(['Dairy Products', 'Grains/Cereals', 'Produce', 'Seafood',\n",
       "       'Condiments', 'Confections', 'Beverages', 'Meat/Poultry'],\n",
       "      dtype=object)"
      ]
     },
     "execution_count": 222,
     "metadata": {},
     "output_type": "execute_result"
    }
   ],
   "source": [
    "dfq5['CategoryName'].unique()"
   ]
  },
  {
   "cell_type": "code",
   "execution_count": null,
   "metadata": {},
   "outputs": [],
   "source": [
    "#x = category name(backorder and nonbackorder)\n",
    "#y = value counts"
   ]
  },
  {
   "cell_type": "code",
   "execution_count": 259,
   "metadata": {},
   "outputs": [],
   "source": [
    "control = backorder_dfq5['UnitsonBackorder']"
   ]
  },
  {
   "cell_type": "code",
   "execution_count": 261,
   "metadata": {},
   "outputs": [],
   "source": [
    "dairy = backorder_dfq5[backorder_dfq5['CategoryName']=='Dairy Products']['UnitsonBackorder']\n",
    "grains = backorder_dfq5[backorder_dfq5['CategoryName']=='Grains/Cereals']['UnitsonBackorder']\n",
    "produce = backorder_dfq5[backorder_dfq5['CategoryName']=='Produce']['UnitsonBackorder']\n",
    "seafood = backorder_dfq5[backorder_dfq5['CategoryName']=='Seafood']['UnitsonBackorder']\n",
    "condiments = backorder_dfq5[backorder_dfq5['CategoryName']=='Condiments']['UnitsonBackorder']\n",
    "confections = backorder_dfq5[backorder_dfq5['CategoryName']=='Confections']['UnitsonBackorder']\n",
    "beverages = backorder_dfq5[backorder_dfq5['CategoryName']=='Beverages']['UnitsonBackorder']"
   ]
  },
  {
   "cell_type": "code",
   "execution_count": 418,
   "metadata": {},
   "outputs": [],
   "source": [
    "product_list = {'dairy':dairy, 'grains':grains, 'produce':produce, 'seafood':seafood, 'condiments':condiments, 'confections':confections, 'beverages':beverages}\n"
   ]
  },
  {
   "cell_type": "code",
   "execution_count": 248,
   "metadata": {
    "scrolled": true
   },
   "outputs": [
    {
     "data": {
      "image/png": "[encoded data removed]",
      "text/plain": [
       "<Figure size 576x432 with 1 Axes>"
      ]
     },
     "metadata": {},
     "output_type": "display_data"
    }
   ],
   "source": [
    "sns.distplot(dfq5_test, bins = 10)\n",
    "sns.set(color_codes=True)\n",
    "sns.set(rc={'figure.figsize':(8,6)})"
   ]
  },
  {
   "cell_type": "code",
   "execution_count": 422,
   "metadata": {},
   "outputs": [
    {
     "name": "stdout",
     "output_type": "stream",
     "text": [
      "dairy\n",
      "Statistics=3.340, p=0.068\n",
      "Same distributions (fail to reject H0)\n",
      "---------------------------------------------\n",
      "grains\n",
      "Statistics=18.281, p=0.000\n",
      "Different distributions (reject H0)\n",
      "---------------------------------------------\n",
      "produce\n",
      "Statistics=10.451, p=0.001\n",
      "Different distributions (reject H0)\n",
      "---------------------------------------------\n",
      "seafood\n",
      "Statistics=11.957, p=0.001\n",
      "Different distributions (reject H0)\n",
      "---------------------------------------------\n",
      "condiments\n",
      "Statistics=20.188, p=0.000\n",
      "Different distributions (reject H0)\n",
      "---------------------------------------------\n",
      "confections\n",
      "Statistics=14.513, p=0.000\n",
      "Different distributions (reject H0)\n",
      "---------------------------------------------\n",
      "beverages\n",
      "Statistics=14.804, p=0.000\n",
      "Different distributions (reject H0)\n",
      "---------------------------------------------\n"
     ]
    }
   ],
   "source": [
    "for key, value in product_list.items():\n",
    "    stat, p = kruskal(control, value)\n",
    "    print(key)\n",
    "    print('Statistics=%.3f, p=%.3f' % (stat, p))\n",
    "    # interpret\n",
    "    alpha = 0.05\n",
    "    if p > alpha:\n",
    "        print('Same distributions (fail to reject H0)')\n",
    "    else:\n",
    "        print('Different distributions (reject H0)')\n",
    "    print('---------------------------------------------')"
   ]
  }
 ],
 "metadata": {
  "kernelspec": {
   "display_name": "Python 3",
   "language": "python",
   "name": "python3"
  },
  "language_info": {
   "codemirror_mode": {
    "name": "ipython",
    "version": 3
   },
   "file_extension": ".py",
   "mimetype": "text/x-python",
   "name": "python",
   "nbconvert_exporter": "python",
   "pygments_lexer": "ipython3",
   "version": "3.7.1"
  }
 },
 "nbformat": 4,
 "nbformat_minor": 2
}
